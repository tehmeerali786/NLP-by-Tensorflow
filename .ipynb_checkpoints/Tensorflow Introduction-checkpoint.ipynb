{
 "cells": [
  {
   "cell_type": "code",
   "execution_count": 1,
   "metadata": {},
   "outputs": [],
   "source": [
    "import tensorflow as tf\n",
    "import numpy as np\n",
    "import os\n",
    "import matplotlib.pyplot as plt\n",
    "# Config matplotlib backend as plotting inline Jupyter\n",
    "%matplotlib inline"
   ]
  },
  {
   "cell_type": "markdown",
   "metadata": {},
   "source": [
    "## Sigmoid Example - Feeding inputs with a Placeholder\n",
    "Here we calculate the sigmoid example by feeding in inputs with a placeholder"
   ]
  },
  {
   "cell_type": "code",
   "execution_count": 6,
   "metadata": {},
   "outputs": [
    {
     "name": "stdout",
     "output_type": "stream",
     "text": [
      "[[0.53102297 0.5253095  0.46416563 0.50012714 0.42937475]]\n"
     ]
    }
   ],
   "source": [
    "# Defining the graph and session\n",
    "graph = tf.Graph() # Creates a graph\n",
    "session = tf.InteractiveSession(graph=graph) # Create a session\n",
    "\n",
    "# Building the graph\n",
    "\n",
    "# A placeholder is a symbolic input\n",
    "x = tf.placeholder(shape=[1, 10], dtype=tf.float32, name='x')\n",
    "\n",
    "# Variable\n",
    "W = tf.Variable(tf.random_uniform(shape=[10,5], minval=-0.1, maxval=0.1, dtype=tf.float32), name='W')\n",
    "\n",
    "# Variable\n",
    "b = tf.Variable(tf.zeros(shape=[5], dtype=tf.float32), name='b')\n",
    "\n",
    "h = tf.nn.sigmoid(tf.matmul(x, W) +b) # Operation to be performed\n",
    "\n",
    "# Executing operations and evaluating nodes in the graph\n",
    "tf.global_variables_initializer().run() # Initialize the variables\n",
    "\n",
    "# Run the operations by providing a value to the symbolic input x\n",
    "h_eval = session.run(h, feed_dict={x: np.random.rand(1, 10)})\n",
    "\n",
    "print(h_eval)\n",
    "\n",
    "session.close() # Frees all the resources associated with the session\n"
   ]
  },
  {
   "cell_type": "markdown",
   "metadata": {},
   "source": [
    "## Feeding inputs as Tensorflow tensors\n",
    "\n",
    "Now we make the same calculations with the input as an immutable tensor"
   ]
  },
  {
   "cell_type": "code",
   "execution_count": 2,
   "metadata": {},
   "outputs": [
    {
     "name": "stdout",
     "output_type": "stream",
     "text": [
      "[[0.48912004 0.51164365 0.4344215  0.51379144 0.46977106]]\n"
     ]
    }
   ],
   "source": [
    "# Define the graph and session\n",
    "graph = tf.Graph() # creates a graph\n",
    "session = tf.InteractiveSession(graph=graph)\n",
    "\n",
    "# Building the graph\n",
    "\n",
    "# A pre loaded input\n",
    "x = tf.constant(value=[[0.1,0.2,0.3,0.4,0.5,0.6,0.7,0.8,0.9,1.0]], dtype=tf.float32, name='x')\n",
    "\n",
    "# Variable\n",
    "W = tf.Variable(tf.random_uniform(shape=[10, 5], minval=-0.1, maxval=0.1, dtype=tf.float32), name='W')\n",
    "# Variable\n",
    "b = tf.Variable(tf.zeros(shape=[5], dtype=tf.float32), name='b')\n",
    "\n",
    "h = tf.nn.sigmoid(tf.matmul(x, W) + b) # Operatiion to be performed\n",
    "\n",
    "# Executing operations and evaluating nodes in the graph\n",
    "tf.global_variables_initializer().run() # Initialize the variables\n",
    "\n",
    "# Run the operation without feed_dict\n",
    "h_eval = session.run(h)\n",
    "\n",
    "print(h_eval)\n",
    "\n",
    "\n",
    "# Close the session to free any held resources by the session\n",
    "session.close()\n",
    "\n",
    "\n",
    "\n",
    "\n"
   ]
  },
  {
   "cell_type": "markdown",
   "metadata": {},
   "source": [
    "## Creating a Tensorflow Data Pipeline\n",
    "\n",
    "We now create data pipeline to read inputs. Data pipeline is an efficient way of reading data when you have to read lots of data stored externally.  "
   ]
  },
  {
   "cell_type": "code",
   "execution_count": 14,
   "metadata": {},
   "outputs": [
    {
     "name": "stdout",
     "output_type": "stream",
     "text": [
      "File test1.txt found.\n",
      "File test2.txt found.\n",
      "File test3.txt found.\n",
      "========== Step 0 ==========\n",
      "Evaluated data (x)\n",
      "[[1.  0.9 0.8 0.7 0.6 0.5 0.4 0.3 0.2 0.1]\n",
      " [1.  0.9 0.8 0.7 0.6 0.5 0.4 0.3 0.2 0.1]\n",
      " [1.  0.9 0.8 0.7 0.6 0.5 0.4 0.3 0.2 0.1]]\n",
      "Evaluated data (h)\n",
      "[[0.47744218 0.47523373 0.49616155 0.5351027  0.47746912]\n",
      " [0.47744218 0.47523373 0.49616155 0.5351027  0.47746912]\n",
      " [0.47744218 0.47523373 0.49616158 0.53510267 0.47746912]]\n",
      "\n",
      "========== Step 1 ==========\n",
      "Evaluated data (x)\n",
      "[[0.1 0.2 0.3 0.4 0.5 0.6 0.7 0.8 0.9 1. ]\n",
      " [0.1 0.2 0.3 0.4 0.5 0.6 0.7 0.8 0.9 1. ]\n",
      " [1.  0.9 0.8 0.7 0.6 0.5 0.4 0.3 0.2 0.1]]\n",
      "Evaluated data (h)\n",
      "[[0.484695   0.45408896 0.49138135 0.5210847  0.48140827]\n",
      " [0.484695   0.45408896 0.49138135 0.5210847  0.48140827]\n",
      " [0.47744218 0.47523373 0.49616158 0.53510267 0.47746912]]\n",
      "\n",
      "========== Step 2 ==========\n",
      "Evaluated data (x)\n",
      "[[1.  0.9 0.8 0.7 0.6 0.5 0.4 0.3 0.2 0.1]\n",
      " [0.1 0.2 0.3 0.4 0.5 0.6 0.7 0.8 0.9 1. ]\n",
      " [0.1 0.2 0.3 0.4 0.5 0.6 0.7 0.8 0.9 1. ]]\n",
      "Evaluated data (h)\n",
      "[[0.47744218 0.47523373 0.49616155 0.5351027  0.47746912]\n",
      " [0.484695   0.45408896 0.49138135 0.5210847  0.48140827]\n",
      " [0.484695   0.45408896 0.49138135 0.5210847  0.48140824]]\n",
      "\n",
      "========== Step 3 ==========\n",
      "Evaluated data (x)\n",
      "[[0.1 0.1 0.1 0.1 0.1 0.1 0.1 0.1 0.1 0.1]\n",
      " [0.1 0.1 0.1 0.1 0.1 0.1 0.1 0.1 0.1 0.1]\n",
      " [0.1 0.2 0.3 0.4 0.5 0.6 0.7 0.8 0.9 1. ]]\n",
      "Evaluated data (h)\n",
      "[[0.49655616 0.4935615  0.49886745 0.50511414 0.49625948]\n",
      " [0.49655616 0.4935615  0.49886745 0.50511414 0.49625948]\n",
      " [0.484695   0.45408896 0.49138135 0.5210847  0.48140824]]\n",
      "\n",
      "========== Step 4 ==========\n",
      "Evaluated data (x)\n",
      "[[1.  0.9 0.8 0.7 0.6 0.5 0.4 0.3 0.2 0.1]\n",
      " [0.1 0.1 0.1 0.1 0.1 0.1 0.1 0.1 0.1 0.1]\n",
      " [0.1 0.1 0.1 0.1 0.1 0.1 0.1 0.1 0.1 0.1]]\n",
      "Evaluated data (h)\n",
      "[[0.47744218 0.47523373 0.49616155 0.5351027  0.47746912]\n",
      " [0.49655616 0.4935615  0.49886745 0.50511414 0.49625948]\n",
      " [0.49655616 0.4935615  0.49886745 0.5051142  0.4962595 ]]\n",
      "\n"
     ]
    }
   ],
   "source": [
    "# Defining the graph and session\n",
    "graph = tf.Graph() # Creates a graph\n",
    "session = tf.InteractiveSession(graph=graph) # Creates a session\n",
    "\n",
    "# The filename queue\n",
    "filenames = ['test%d.txt'%i for i in range(1,4)]\n",
    "filename_queue = tf.train.string_input_producer(filenames, capacity=3, shuffle=True,name='string_input_producer')\n",
    "\n",
    "# check if all files are there\n",
    "for f in filenames:\n",
    "    if not tf.gfile.Exists(f):\n",
    "        raise ValueError('Failed to find file: ' + f)\n",
    "    else:\n",
    "        print('File %s found.'%f)\n",
    "\n",
    "# Reader which takes a filename queue and \n",
    "# read() which outputs data one by one\n",
    "reader = tf.TextLineReader()\n",
    "\n",
    "# ready the data of the file and output as key,value pairs \n",
    "# We're discarding the key\n",
    "key, value = reader.read(filename_queue, name='text_read_op')\n",
    "\n",
    "# if any problems encountered with reading file \n",
    "# this is the value returned\n",
    "record_defaults = [[-1.0], [-1.0], [-1.0], [-1.0], [-1.0], [-1.0], [-1.0], [-1.0], [-1.0], [-1.0]]\n",
    "\n",
    "# decoding the read value to columns\n",
    "col1, col2, col3, col4, col5, col6, col7, col8, col9, col10 = tf.decode_csv(value, record_defaults=record_defaults)\n",
    "features = tf.stack([col1, col2, col3, col4, col5, col6, col7, col8, col9, col10])\n",
    "\n",
    "# output x is randomly assigned a batch of data of batch_size \n",
    "# where the data is read from the txt files\n",
    "x = tf.train.shuffle_batch([features], batch_size=3,\n",
    "                           capacity=5, name='data_batch', \n",
    "                           min_after_dequeue=1,num_threads=1)\n",
    "\n",
    "# QueueRunner retrieve data from queues and we need to explicitly start them\n",
    "# Coordinator coordinates multiple QueueRunners\n",
    "coord = tf.train.Coordinator()\n",
    "threads = tf.train.start_queue_runners(coord=coord, sess=session)\n",
    "\n",
    "# Building the graph by defining the variables and calculations\n",
    "\n",
    "W = tf.Variable(tf.random_uniform(shape=[10,5], minval=-0.1, maxval=0.1, dtype=tf.float32),name='W') # Variable\n",
    "b = tf.Variable(tf.zeros(shape=[5],dtype=tf.float32),name='b') # Variable\n",
    "\n",
    "h = tf.nn.sigmoid(tf.matmul(x,W) + b) # Operation to be performed\n",
    "\n",
    "# Executing operations and evaluating nodes in the graph\n",
    "tf.global_variables_initializer().run() # Initialize the variables\n",
    "\n",
    "# Calculate h with x and print the results for 5 steps\n",
    "for step in range(5):\n",
    "    x_eval, h_eval = session.run([x,h]) \n",
    "    print('========== Step %d =========='%step)\n",
    "    print('Evaluated data (x)')\n",
    "    print(x_eval)\n",
    "    print('Evaluated data (h)')\n",
    "    print(h_eval)\n",
    "    print('')\n",
    "\n",
    "# We also need to explicitly stop the coordinator \n",
    "# otherwise the process will hang indefinitely\n",
    "coord.request_stop()\n",
    "coord.join(threads)\n",
    "session.close()"
   ]
  },
  {
   "cell_type": "code",
   "execution_count": 3,
   "metadata": {},
   "outputs": [],
   "source": [
    "filenames = ['test%d.txt'%i for i in range(1,4)]"
   ]
  },
  {
   "cell_type": "code",
   "execution_count": 8,
   "metadata": {},
   "outputs": [],
   "source": [
    "filenames\n",
    "filename_queue = tf.train.string_input_producer(filenames, capacity=3, shuffle=True, name='string_input_producer')"
   ]
  },
  {
   "cell_type": "code",
   "execution_count": 9,
   "metadata": {},
   "outputs": [
    {
     "data": {
      "text/plain": [
       "<tensorflow.python.ops.data_flow_ops.FIFOQueue at 0x7ca89f7ac8>"
      ]
     },
     "execution_count": 9,
     "metadata": {},
     "output_type": "execute_result"
    }
   ],
   "source": [
    "filename_queue"
   ]
  },
  {
   "cell_type": "markdown",
   "metadata": {},
   "source": [
    "## Comparison Operators\n",
    "\n",
    "Here we discuss some operators that allows us to compare two tensors element-wise"
   ]
  },
  {
   "cell_type": "code",
   "execution_count": 3,
   "metadata": {},
   "outputs": [
    {
     "name": "stdout",
     "output_type": "stream",
     "text": [
      "WARNING:tensorflow:From <ipython-input-3-b2912d16c7fc>:28: add_dispatch_support.<locals>.wrapper (from tensorflow.python.ops.array_ops) is deprecated and will be removed in a future version.\n",
      "Instructions for updating:\n",
      "Use tf.where in 2.0, which has the same broadcast rule as np.where\n",
      "Is X == Y (element-wise)?\n",
      "[[False False]\n",
      " [ True False]]\n",
      "\n",
      "Is X < Y (element-wise)?\n",
      "[[ True  True]\n",
      " [False False]]\n",
      "\n",
      "Is X >= Y (element-wise)?\n",
      "[[False False]\n",
      " [ True  True]]\n",
      "\n",
      "X or Y depending on the condition (element-wise).\n",
      "[[1 3]\n",
      " [3 2]]\n"
     ]
    }
   ],
   "source": [
    "# Defining the graph and session\n",
    "graph = tf.Graph() # Creates a graph\n",
    "session = tf.InteractiveSession(graph=graph) # Creates a session\n",
    "\n",
    "# Let's assume the following values for x and y\n",
    "# x (2-D tensor) => [[1,2], [3,4]]\n",
    "# y (2-D tensor) => [[4,3], [3,2]]\n",
    "x = tf.constant([[1,2], [3,4]], dtype=tf.int32)\n",
    "y = tf.constant([[4,3], [3,2]], dtype=tf.int32 )\n",
    "\n",
    "# Checks if two tensors are equal element-wise and returns a boolean tensor\n",
    "# x_equal_y => [[False, False], [True, False]]\n",
    "x_equal_y = tf.equal(x, y, name=None)\n",
    "\n",
    "# Checks if x is greater or equal element-wise and returns a boolean tensor\n",
    "# x_less_y => [[True, True], [True, False]]\n",
    "x_less_y = tf.less(x, y, name=None)\n",
    "\n",
    "# Checks if x is greater or equal than y element-wise and returns a boolean tensor\n",
    "# x_great_equal_y => [[False, False], [True, True]]\n",
    "x_great_equal_y = tf.greater_equal(x, y, name=None)\n",
    "\n",
    "# Selects elements from x and y depending on whether,\n",
    "# the condition is satisfied (select element from x)\n",
    "# or the condition failed (select elements from y)\n",
    "condition = tf.constant([[True, False], [True, False]], dtype=tf.bool)\n",
    "# x_cond_y => [[1,3], [3,2]]\n",
    "x_cond_y = tf.where(condition, x, y, name=None)\n",
    "\n",
    "print('Is X == Y (element-wise)?')\n",
    "print(session.run(x_equal_y))\n",
    "\n",
    "print('\\nIs X < Y (element-wise)?')\n",
    "print(session.run(x_less_y))\n",
    "\n",
    "print('\\nIs X >= Y (element-wise)?')\n",
    "print(session.run(x_great_equal_y))\n",
    "\n",
    "print('\\nX or Y depending on the condition (element-wise).')\n",
    "print(session.run(x_cond_y))\n",
    "\n",
    "session.close()"
   ]
  },
  {
   "cell_type": "markdown",
   "metadata": {},
   "source": [
    "## Mathematical Operations\n",
    "\n",
    "Here we perform several mathematical opeartions you are often comfortable with"
   ]
  },
  {
   "cell_type": "code",
   "execution_count": 5,
   "metadata": {},
   "outputs": [
    {
     "name": "stdout",
     "output_type": "stream",
     "text": [
      "X + Y\n",
      "[[5. 5.]\n",
      " [6. 6.]]\n",
      "\n",
      " XY\n",
      "[[10.  7.]\n",
      " [24. 17.]]\n",
      "\n",
      " log(x)\n",
      "[[0.        0.6931472]\n",
      " [1.0986123 1.3862944]]\n",
      "\n",
      " X sum over axis 1\n",
      "[3. 7.]\n",
      "\n",
      " X sum over axis 2\n",
      "[[4. 6.]]\n",
      "\n",
      " Segmented sum of a vector\n",
      "[ 6  9 40]\n"
     ]
    },
    {
     "name": "stderr",
     "output_type": "stream",
     "text": [
      "C:\\ProgramData\\Anaconda3\\lib\\site-packages\\tensorflow\\python\\client\\session.py:1735: UserWarning: An interactive session is already active. This can cause out-of-memory errors in some cases. You must explicitly call `InteractiveSession.close()` to release resources held by the other session(s).\n",
      "  warnings.warn('An interactive session is already active. This can '\n"
     ]
    }
   ],
   "source": [
    "# Defining the graph and session \n",
    "graph = tf.Graph()\n",
    "session = tf.InteractiveSession(graph=graph) # Creates a session\n",
    "\n",
    "# Let's assume the following values x and y\n",
    "# x (2-D tensor) => [[1,2], [3, 4]]\n",
    "# y (2-D tensor) => [[4,3], [3,2]]\n",
    "x = tf.constant([[1,2], [3,4]], dtype=tf.float32)\n",
    "y = tf.constant([[4,3], [3,2]], dtype=tf.float32)\n",
    "\n",
    "# Add two tensors x and y in an element-wise fashion\n",
    "# x_add_y => [[5,5], [6,6]]\n",
    "x_add_y = tf.add(x,y)\n",
    "\n",
    "# Performs matrix multiplication (Dot Product) (not element-wise)\n",
    "# x_mul_y = [[10,7],[24,17]]\n",
    "x_mul_y = tf.matmul(x, y)\n",
    "\n",
    "# Compute natural logarithm of x element-wise\n",
    "# equavilent to computing ln(x)\n",
    "# log_x => [[0, 0.6931], [1.0986, 1.3863]]\n",
    "log_x = tf.log(x)\n",
    "\n",
    "# Performs reduction operation across the specified axis\n",
    "# x_sum_1 => [3,7]\n",
    "x_sum_1 = tf.reduce_sum(x, axis=[1], keepdims=False)\n",
    "\n",
    "# x_sum_2 => [[4], [6]]\n",
    "x_sum_2 = tf.reduce_sum(x, axis=[0], keepdims=True)\n",
    "\n",
    "# Segments the tensor according to segment_ids (items with\n",
    "# same id in the same segment) and computes a segmented sum of the data\n",
    "\n",
    "data = tf.constant([1,2,3,4,5,6,7,8,9,10], dtype=tf.int32)\n",
    "segment_ids = tf.constant([0,0,0,1,1,2,2,2,2,2], dtype=tf.int32)\n",
    "# x_seg_sum => [6,9,40]\n",
    "x_seg_sum = tf.segment_sum(data, segment_ids)\n",
    "\n",
    "print('X + Y')\n",
    "print(session.run(x_add_y))\n",
    "\n",
    "print('\\n XY')\n",
    "print(session.run(x_mul_y))\n",
    "\n",
    "print('\\n log(x)')\n",
    "print(session.run(log_x))\n",
    "\n",
    "print('\\n X sum over axis 1')\n",
    "print(session.run(x_sum_1))\n",
    "\n",
    "print('\\n X sum over axis 2')\n",
    "print(session.run(x_sum_2))\n",
    "\n",
    "print('\\n Segmented sum of a vector')\n",
    "print(session.run(x_seg_sum))"
   ]
  },
  {
   "cell_type": "markdown",
   "metadata": {},
   "source": [
    "## Scatter and Gather Operations\n",
    "\n",
    "Scatter operation can distributed a set of values to specific positions of a tensor, where the gather operation can obtain a slice of a tensor specified by a set of indices."
   ]
  },
  {
   "cell_type": "code",
   "execution_count": 12,
   "metadata": {},
   "outputs": [
    {
     "name": "stdout",
     "output_type": "stream",
     "text": [
      "\n",
      "Scatter Update Operation for 1-D\n",
      "[1. 2. 3. 4. 5.]\n",
      "\n",
      "Scatter Operation for n-D\n",
      "[[0 0 0]\n",
      " [1 1 1]\n",
      " [0 0 0]\n",
      " [2 2 2]]\n",
      "\n",
      "Scatter Operation n-D\n",
      "[[0 0 0]\n",
      " [1 0 0]\n",
      " [0 0 0]\n",
      " [0 2 0]]\n",
      "\n",
      "Gather Operation for n-D\n",
      "[2. 5.]\n",
      "\n",
      " Gather Operation for n-D\n",
      "[[0. 0. 0.]\n",
      " [2. 2. 2.]]\n",
      "\n",
      " Gather Operation for n-D\n",
      "[0. 2.]\n"
     ]
    }
   ],
   "source": [
    "# Defining the graph and session\n",
    "graph = tf.Graph()\n",
    "session = tf.InteractiveSession(graph=graph) # Creates a session\n",
    "\n",
    "# 1-D scatter operation\n",
    "ref = tf.Variable(tf.constant([1, 9, 3, 10, 5], dtype=tf.float32), name = 'scatter_update')\n",
    "indices = [1,3]\n",
    "updates = tf.constant([2,4], dtype=tf.float32)\n",
    "tf_scatter_update = tf.scatter_update(ref, indices, updates, use_locking=None, name=None)\n",
    "\n",
    "tf.global_variables_initializer().run() # Initialize the variables\n",
    "print('\\nScatter Update Operation for 1-D')\n",
    "print(session.run(tf_scatter_update))\n",
    "\n",
    "# n-D scatter operation \n",
    "indices = [[1], [3]]\n",
    "updates = tf.constant([[1, 1, 1], [2, 2, 2]])\n",
    "shape = [4, 3]\n",
    "tf_scatter_nd_1 = tf.scatter_nd(indices, updates, shape, name=None)\n",
    "print('\\nScatter Operation for n-D')\n",
    "print(session.run(tf_scatter_nd_1))\n",
    "\n",
    "\n",
    "# n-D scatter operation\n",
    "indices = [[1, 0], [3, 1]] # 2 x 2\n",
    "updates = tf.constant([1, 2]) # 2 x 1\n",
    "shape = [4, 3] # 2\n",
    "tf_scatter_nd_2 = tf.scatter_nd(indices, updates, shape, name=None)\n",
    "\n",
    "print('\\nScatter Operation n-D')\n",
    "print(session.run(tf_scatter_nd_2))\n",
    "\n",
    "\n",
    "# 1-D gather operation\n",
    "params = tf.constant([1, 2, 3, 4, 5], dtype=tf.float32)\n",
    "indices = [1, 4]\n",
    "tf_gather = tf.gather(params, indices, validate_indices=True, name=None) #=> [2, 5]\n",
    "print('\\nGather Operation for n-D')\n",
    "print(session.run(tf_gather))\n",
    "\n",
    "\n",
    "#n-D gather operation\n",
    "params = tf.constant([[0,0,0],[1,1,1],[2,2,2],[3,3,3]], dtype=tf.float32)\n",
    "indices = [[0], [2]]\n",
    "tf_gather_nd = tf.gather_nd(params, indices, name=None) # => [[0, 0, 0], [2, 2, 2]]\n",
    "print('\\n Gather Operation for n-D')\n",
    "print(session.run(tf_gather_nd))\n",
    "\n",
    "params = tf.constant([[0,0,0],[1,1,1],[2,2,2],[3,3,3]],dtype=tf.float32)\n",
    "indices = [[0, 1], [2, 2]]\n",
    "tf_gather_nd_2 = tf.gather_nd(params, indices, name=None) # => [0, 2]\n",
    "print('\\n Gather Operation for n-D')\n",
    "print(session.run(tf_gather_nd_2))\n",
    "\n",
    "session.close()\n",
    "\n",
    "\n"
   ]
  },
  {
   "cell_type": "markdown",
   "metadata": {},
   "source": [
    "## 2-Dimensional Operations (2D Convolution and 2D Max pooling)\n",
    "\n",
    "2D Convolution and Max pooling are two operation you perform on a tensor over the width and height axes. These operations are often used in convolution neural networks."
   ]
  },
  {
   "cell_type": "code",
   "execution_count": 2,
   "metadata": {},
   "outputs": [
    {
     "name": "stdout",
     "output_type": "stream",
     "text": [
      "\n",
      "2-D Convolution Operation\n",
      "[[[[ 7.5]\n",
      "   [ 7.5]\n",
      "   [ 7.5]]\n",
      "\n",
      "  [[13.5]\n",
      "   [13.5]\n",
      "   [13.5]]\n",
      "\n",
      "  [[19.5]\n",
      "   [19.5]\n",
      "   [19.5]]]]\n",
      "\n",
      "Max Pooling Operation\n",
      "[[[[4.]\n",
      "   [4.]]\n",
      "\n",
      "  [[8.]\n",
      "   [8.]]]]\n"
     ]
    }
   ],
   "source": [
    "# Definiing the graph and session\n",
    "graph = tf.Graph() # Creates a graph\n",
    "session = tf.InteractiveSession(graph=graph) # Creates a session\n",
    "\n",
    "x = tf.constant([[\n",
    "    \n",
    "        [[1],[2],[3],[4]],\n",
    "        [[4],[3],[2],[1]],\n",
    "        [[5],[6],[7],[8]],\n",
    "        [[8],[7],[6],[5]]\n",
    "    \n",
    "]],\n",
    "\n",
    "dtype=tf.float32)\n",
    "\n",
    "x_filter = tf.constant(\n",
    "\n",
    "    [\n",
    "        [\n",
    "            [[0.5]],[[1]]\n",
    "        ],\n",
    "        [\n",
    "            [[0.5]],[[1]]\n",
    "        ]\n",
    "    ], dtype=tf.float32)\n",
    "\n",
    "x_stride = [1, 1, 1, 1]\n",
    "\n",
    "x_padding = 'VALID'\n",
    "\n",
    "x_conv = tf.nn.conv2d(\n",
    "\n",
    "    input = x, filter = x_filter,\n",
    "    strides = x_stride, padding = x_padding\n",
    "\n",
    ")\n",
    "\n",
    "\n",
    "print('\\n2-D Convolution Operation')\n",
    "print(session.run(x_conv))\n",
    "\n",
    "x = tf.constant(\n",
    "    \n",
    "   [[\n",
    "        [[1],[2],[3],[4]],\n",
    "        [[4],[3],[2],[1]],\n",
    "        [[5],[6],[7],[8]],\n",
    "        [[8],[7],[6],[5]]\n",
    "    ]], dtype = tf.float32)\n",
    "\n",
    "\n",
    "x_ksize = [1, 2, 2, 1]\n",
    "x_stride = [1, 2, 2, 1]\n",
    "x_padding = 'VALID'\n",
    "\n",
    "x_pool = tf.nn.max_pool(\n",
    "\n",
    "    value = x, ksize = x_ksize,\n",
    "    strides = x_stride, padding = x_padding\n",
    ")\n",
    "\n",
    "\n",
    "print('\\nMax Pooling Operation')\n",
    "print(session.run(x_pool))\n",
    "\n",
    "session.close()"
   ]
  },
  {
   "cell_type": "markdown",
   "metadata": {},
   "source": [
    "## Loss Functions\n",
    "\n",
    "Here we define several well-known loss functions that are commonly used in optimizing neural networks.\n",
    "1. Mean Squared Error (MSE)\n",
    " * $MSE = (1/N)\\sum_{i=1}^{N} {(x_i-\\hat{x}_i)}^2$\n",
    " \n",
    "2. Cross Entropy Loss (CE)\n",
    " * $CE = -(1/N)\\sum_{i=1}^{N}y_ilog(\\hat{y}_i) + (1-y_i)log(1-\\hat{y}_i)$"
   ]
  },
  {
   "cell_type": "code",
   "execution_count": 6,
   "metadata": {},
   "outputs": [
    {
     "name": "stdout",
     "output_type": "stream",
     "text": [
      "MSE Losses:  15.0\n",
      "CE Losses:  0.08775769\n"
     ]
    }
   ],
   "source": [
    "# Defining the graph and session\n",
    "graph = tf.Graph()\n",
    "session = tf.InteractiveSession(graph=graph) # Creates a session\n",
    "\n",
    "# Returns half of L2 norm of t given by sum(t**2)/2\n",
    "x = tf.constant([[2, 4], [6, 8]], dtype = tf.float32)\n",
    "x_hat = tf.constant([[1, 2], [3, 4]], dtype=tf.float32)\n",
    "# MSE = (1**2 + 2**2 + 3**2 + 4**2)/2 = 15\n",
    "MSE = tf.nn.l2_loss(x-x_hat)\n",
    "\n",
    "# A common loss function used in neural networks to optimize the network\n",
    "# Calculating the cross_entropy with Logits (unnormalized outputs of the last layer)\n",
    "# instead of outputs leads to better numerical stabilities\n",
    "\n",
    "y = tf.constant([[1,0],[0,1]], dtype=tf.float32)\n",
    "y_hat = tf.constant([[3, 1], [2, 5]], dtype = tf.float32)\n",
    "# This function alone doesn't average the cross entropy losses of all data points,\n",
    "# You need to do that manually using reduce_mean function\n",
    "CE = tf.reduce_mean(tf.nn.softmax_cross_entropy_with_logits_v2(logits = y_hat, labels=y))\n",
    "\n",
    "print('MSE Losses: ', session.run(MSE))\n",
    "print('CE Losses: ', session.run(CE))"
   ]
  },
  {
   "cell_type": "markdown",
   "metadata": {},
   "source": [
    "## Stochastic Optimization\n",
    "\n",
    "Here we discuss how to implement optimization with TensorFlow. The objective of this example is to find the mininum point of a given function. For this example, we will use a simple quadratic function where  𝑦=𝑥2 . We will start at an arbitrary point (say  𝑥=2 ) and keep minimizing  𝑦  until we reach the minimum  𝑦 ."
   ]
  },
  {
   "cell_type": "code",
   "execution_count": 2,
   "metadata": {},
   "outputs": [
    {
     "name": "stdout",
     "output_type": "stream",
     "text": [
      "WARNING:tensorflow:From C:\\ProgramData\\Anaconda3\\lib\\site-packages\\tensorflow\\python\\ops\\math_grad.py:1205: add_dispatch_support.<locals>.wrapper (from tensorflow.python.ops.array_ops) is deprecated and will be removed in a future version.\n",
      "Instructions for updating:\n",
      "Use tf.where in 2.0, which has the same broadcast rule as np.where\n",
      "Step:  0 , x:  1.6 , y:  4.0\n",
      "Step:  1 , x:  1.28 , y:  2.5600002\n",
      "Step:  2 , x:  1.0239999 , y:  1.6384\n",
      "Step:  3 , x:  0.8191999 , y:  1.0485759\n",
      "Step:  4 , x:  0.6553599 , y:  0.6710885\n"
     ]
    },
    {
     "data": {
      "image/png": "[encoded data removed]",
      "text/plain": [
       "<Figure size 1800x360 with 1 Axes>"
      ]
     },
     "metadata": {
      "needs_background": "light"
     },
     "output_type": "display_data"
    }
   ],
   "source": [
    "graph = tf.Graph()\n",
    "session = tf.InteractiveSession() # Creates a session \n",
    "\n",
    "# Optimizer play the role in tuning neural network parameters so that their task error is minimal\n",
    "# For example task error can be the cross_entropy error for a classication task\n",
    "\n",
    "tf_x = tf.Variable(tf.constant(2.0, dtype=tf.float32, name='x'))\n",
    "tf_y = tf_x ** 2\n",
    "minimize_op = tf.train.GradientDescentOptimizer(learning_rate= 0.1).minimize(tf_y)\n",
    "\n",
    "x_series, y_series = [], []\n",
    "tf.global_variables_initializer().run()\n",
    "for step in range(5):\n",
    "    _, x, y = session.run([minimize_op, tf_x, tf_y])\n",
    "    print('Step: ', step, ', x: ',x, ', y: ', y)\n",
    "    x_series.append(x)\n",
    "    y_series.append(y)\n",
    "    \n",
    "    \n",
    "    \n",
    "fig, ax = plt.subplots(nrows=1, ncols=1)\n",
    "fig.set_size_inches(w=25, h=5)\n",
    "ax.plot(np.arange(-4, 4.1, 0.1), np.arange(-4, 4.1, 0.1)**2)\n",
    "ax.scatter(x_series, y_series, c='red', linewidths=4)\n",
    "\n",
    "x_offset, y_offset = 0.02, 0.75\n",
    "ax.annotate('Starting point', xy=(2.01, 4.1), xytext=(2.5, 8),\n",
    "           arrowprops=dict(facecolor='black', shrink=0.01), fontsize=20)\n",
    "\n",
    "ax.annotate('Optimization path', xy=(2.01, 4.1), xytext=(0.6, 5),\n",
    "           arrowprops=None, fontsize=20)\n",
    "\n",
    "\n",
    "for index, (x,y) in enumerate(zip(x_series, y_series)):\n",
    "    if index == len(x_series) - 1:\n",
    "        break\n",
    "    ax.annotate('', xy=(x_series[index+1], y_series[index+1] + y_offset), xytext= (x - x_offset, y + y_offset),\n",
    "                arrowprops=dict(facecolor='red', edgecolor='red', shrink=0.01), fontsize=20)\n",
    "    \n",
    "    \n",
    "ax.set_xlabel('x', fontsize=20)\n",
    "ax.set_ylabel('y', fontsize=20)\n",
    "ax.set_title('Optimizing y=x^2', fontsize=22)\n",
    "fig.savefig('optimization.jpg')\n",
    "session.close()\n",
    "\n",
    "\n"
   ]
  },
  {
   "cell_type": "markdown",
   "metadata": {},
   "source": [
    "## Using tf.control_dependencies(...) Operation"
   ]
  },
  {
   "cell_type": "code",
   "execution_count": 2,
   "metadata": {},
   "outputs": [
    {
     "name": "stdout",
     "output_type": "stream",
     "text": [
      "z= 4.0\n",
      "x= 2.0\n"
     ]
    }
   ],
   "source": [
    "# if you don't pass a graph, the default_graph will be used by Tensorflow as the graph \n",
    "session = tf.InteractiveSession()\n",
    "\n",
    "x = tf.Variable(tf.constant(2.0), name='x')\n",
    "x_assign_op = tf.assign(x, x+5)\n",
    "z = x * 2\n",
    "\n",
    "tf.global_variables_initializer().run()\n",
    "\n",
    "print('z=', session.run(z))\n",
    "print('x=', session.run(x))\n",
    "\n",
    "session.close()"
   ]
  },
  {
   "cell_type": "code",
   "execution_count": 3,
   "metadata": {},
   "outputs": [
    {
     "name": "stdout",
     "output_type": "stream",
     "text": [
      "z = 14.0\n",
      "x =  7.0\n"
     ]
    }
   ],
   "source": [
    "session = tf.InteractiveSession()\n",
    "\n",
    "x = tf.Variable(tf.constant(2.0), name='x')\n",
    "with tf.control_dependencies([tf.assign(x, x+5)]):\n",
    "    z = x*2\n",
    "    \n",
    "tf.global_variables_initializer().run()\n",
    "\n",
    "print('z =', session.run(z))\n",
    "print('x = ', session.run(x))\n",
    "\n",
    "session.close()"
   ]
  },
  {
   "cell_type": "markdown",
   "metadata": {},
   "source": [
    "## Variable Scoping\n",
    "\n",
    "Here we will see how we can use variable scoping to reuse variables during the execution of the code. First we will see that TensorFlow creates variables everytime we execute code if scoping is not used. Then we look at how to solve this issue with scoping"
   ]
  },
  {
   "cell_type": "code",
   "execution_count": 4,
   "metadata": {},
   "outputs": [
    {
     "name": "stdout",
     "output_type": "stream",
     "text": [
      "14.0\n",
      "['x:0', 'Variable:0', 'x_1:0', 'Variable_1:0', 'x_2:0', 'Variable_2:0', 'x_3:0', 'Variable_3:0', 'x_4:0', 'Variable_4:0', 'x_5:0', 'Variable_5:0', 'x_6:0', 'Variable_6:0', 'x_7:0', 'Variable_7:0', 'x_8:0', 'Variable_8:0', 'x_9:0', 'Variable_9:0', 'x_10:0', 'Variable_10:0']\n"
     ]
    }
   ],
   "source": [
    "tf.reset_default_graph() \n",
    "# Defining the graph and session\n",
    "session = tf.InteractiveSession() # Creates a session with default graph\n",
    "\n",
    "def very_simple_computation(w):\n",
    "    x = tf.Variable(tf.constant(5.0, shape=None, dtype=tf.float32), name='x')\n",
    "    y = tf.Variable(tf.constant(2.0, shape=None, dtype=tf.float32, name='y'))\n",
    "    z = x * w + y ** 2\n",
    "    return z\n",
    "\n",
    "z1 = very_simple_computation(2)\n",
    "\n",
    "for _  in range(10):\n",
    "    z1 = very_simple_computation(2)\n",
    "    \n",
    "tf.global_variables_initializer().run()\n",
    "\n",
    "print(session.run(z1))\n",
    "\n",
    "print([v.name for v in tf.global_variables()])\n",
    "session.close()"
   ]
  },
  {
   "cell_type": "code",
   "execution_count": 5,
   "metadata": {},
   "outputs": [
    {
     "name": "stdout",
     "output_type": "stream",
     "text": [
      "[9.0, 90.0, 9.0, 90.0, 9.0, 90.0]\n",
      "['scopeA/x:0', 'scopeA/y:0', 'scopeB/x:0', 'scopeB/y:0']\n"
     ]
    }
   ],
   "source": [
    "graph = tf.reset_default_graph()\n",
    "# Defining the graph and session\n",
    "session = tf.InteractiveSession(graph=graph) # Creates a session\n",
    "\n",
    "def not_so_simple_computation(w):\n",
    "    x = tf.get_variable('x', initializer= tf.constant(5.0, shape=None, dtype=tf.float32))\n",
    "    y = tf.get_variable('y', initializer = tf.constant(2.0, shape=None, dtype=tf.float32))\n",
    "    z = x * w + y **2\n",
    "    return z\n",
    "\n",
    "def another_not_so_simple_computation(w):\n",
    "    x = tf.get_variable('x', initializer=tf.constant(5.0, shape=None, dtype=tf.float32))\n",
    "    y = tf.get_variable('y', initializer=tf.constant(2.0, shape=None, dtype=tf.float32))\n",
    "    z = w * x * y\n",
    "    return z\n",
    "\n",
    "# Since this is the first call, the variables will be created with following names\n",
    "# x => scopeA/x, y => scopeA/y\n",
    "with tf.variable_scope('scopeA'):\n",
    "    z1 = not_so_simple_computation(tf.constant(1.0, dtype=tf.float32))\n",
    "# scopeA/x and scopeA/y already created. We reuse them\n",
    "with tf.variable_scope('scopeA', reuse=True):\n",
    "    z2 = another_not_so_simple_computation(z1)\n",
    "    \n",
    "\n",
    "# Since this is the first call, the variables will be created with following names\n",
    "# x => scopeB/x, y => scopeB/y\n",
    "\n",
    "with tf.variable_scope('scopeB'):\n",
    "    a1 = not_so_simple_computation(tf.constant(1.0, dtype=tf.float32))\n",
    "\n",
    "\n",
    "# scopeB/x and scopeB/y already created. We reuse them.\n",
    "with tf.variable_scope('scopeB', reuse=True):\n",
    "    a2 = another_not_so_simple_computation(a1)\n",
    "    \n",
    "# Say we want to reuse the \"scopeA\" scope again, since variables are already created\n",
    "# we should set \"reuse\" argument to True when invoking the scope\n",
    "with tf.variable_scope('scopeA', reuse=True):\n",
    "    zz1 = not_so_simple_computation(tf.constant(1.0, dtype=tf.float32))\n",
    "    zz2 = another_not_so_simple_computation(z1)\n",
    "    \n",
    "tf.global_variables_initializer().run()\n",
    "print(session.run([z1,z2,a1,a2,zz1,zz2]))\n",
    "print([v.name for v in tf.global_variables()])\n",
    "\n",
    "\n",
    "session.close()"
   ]
  },
  {
   "cell_type": "markdown",
   "metadata": {},
   "source": [
    "## MNIST Classification\n",
    "\n",
    "## Download and Prepare Data\n",
    "\n",
    "The code below downloads the MNIST data set from source, reshapes the images to [number_of_training_samples, single_image_size] matrix and standardize (make zero-mean unit-variance) images. Then we do the same for testing images as well."
   ]
  },
  {
   "cell_type": "code",
   "execution_count": 2,
   "metadata": {},
   "outputs": [],
   "source": [
    "import struct \n",
    "import gzip\n",
    "import os \n",
    "from six.moves.urllib.request import urlretrieve "
   ]
  },
  {
   "cell_type": "code",
   "execution_count": 9,
   "metadata": {},
   "outputs": [
    {
     "name": "stdout",
     "output_type": "stream",
     "text": [
      "Found and verified train-images-idx3-ubyte.gz\n",
      "Found and verified train-labels-idx1-ubyte.gz\n",
      "Found and verified t10k-images-idx3-ubyte.gz\n",
      "Found and verified t10k-labels-idx1-ubyte.gz\n",
      "\n",
      "Reading files train-images-idx3-ubyte.gz and train-labels-idx1-ubyte.gz\n",
      "60000 28 28\n",
      "(Images) Returned a tensor of shape  (60000, 784)\n",
      "(Labels) Returned a tensor of shape: 60000\n",
      "Sample labels:  [5 0 4 1 9 2 1 3 1 4]\n",
      "\n",
      "Reading files t10k-images-idx3-ubyte.gz and t10k-labels-idx1-ubyte.gz\n",
      "10000 28 28\n",
      "(Images) Returned a tensor of shape  (10000, 784)\n",
      "(Labels) Returned a tensor of shape: 10000\n",
      "Sample labels:  [7 2 1 0 4 1 4 9 5 9]\n"
     ]
    }
   ],
   "source": [
    "def maybe_download(url, filename, expected_bytes, force=False):\n",
    "    \"\"\"Download a file if not present, and make sure it's the right size.\"\"\"\n",
    "    if force or not os.path.exists(filename):\n",
    "        print('Attempting to download:', filename)\n",
    "        filename, _ = urlretrieve(url + filename, filename)\n",
    "        print('\\nDownload Complete!')\n",
    "        \n",
    "    statinfo = os.stat(filename)\n",
    "    if statinfo.st_size == expected_bytes:\n",
    "        print('Found and verified', filename)\n",
    "    else:\n",
    "        raise Exception('Failed to verify ' + filename + '.Can you get to it with a browser?')\n",
    "    return filename\n",
    "    \n",
    "def read_mnist(fname_img, fname_lbl):\n",
    "    print('\\nReading files %s and %s'% (fname_img, fname_lbl))\n",
    "    \n",
    "    with gzip.open(fname_img) as fimg:\n",
    "        magic, num, rows, cols = struct.unpack(\">IIII\", fimg.read(16))\n",
    "        print(num, cols, rows)\n",
    "        img = (np.frombuffer(fimg.read(num*rows*cols), dtype=np.uint8).reshape(num, rows * cols)).astype(np.float32)\n",
    "        print('(Images) Returned a tensor of shape ',img.shape)\n",
    "        \n",
    "        \n",
    "        img = (img - np.mean(img))/np.std(img)\n",
    "        \n",
    "    with gzip.open(fname_lbl) as flbl:\n",
    "        # flbl.read(8) reads up to 8 bytes\n",
    "        magic, num = struct.unpack(\">II\", flbl.read(8))\n",
    "        lbl = np.frombuffer(flbl.read(num), dtype=np.int8)\n",
    "        print('(Labels) Returned a tensor of shape: %s'%lbl.shape)\n",
    "        print('Sample labels: ', lbl[:10])\n",
    "        \n",
    "        \n",
    "        \n",
    "    return img, lbl\n",
    "\n",
    "\n",
    "# Download data if needed \n",
    "url = 'http://yann.lecun.com/exdb/mnist/'\n",
    "# training data\n",
    "maybe_download(url,'train-images-idx3-ubyte.gz',9912422)\n",
    "maybe_download(url,'train-labels-idx1-ubyte.gz',28881)\n",
    "# testing data\n",
    "maybe_download(url,'t10k-images-idx3-ubyte.gz',1648877)\n",
    "maybe_download(url,'t10k-labels-idx1-ubyte.gz',4542)\n",
    "\n",
    "\n",
    "        \n",
    "        \n",
    "# Read the training data and the test data\n",
    "train_inputs,  train_labels = read_mnist('train-images-idx3-ubyte.gz', 'train-labels-idx1-ubyte.gz')\n",
    "test_inputs, test_labels = read_mnist('t10k-images-idx3-ubyte.gz', 't10k-labels-idx1-ubyte.gz')\n",
    "        \n",
    "        \n",
    "        \n"
   ]
  },
  {
   "cell_type": "code",
   "execution_count": null,
   "metadata": {},
   "outputs": [],
   "source": []
  },
  {
   "cell_type": "code",
   "execution_count": null,
   "metadata": {},
   "outputs": [],
   "source": []
  }
 ],
 "metadata": {
  "kernelspec": {
   "display_name": "Python 3",
   "language": "python",
   "name": "python3"
  },
  "language_info": {
   "codemirror_mode": {
    "name": "ipython",
    "version": 3
   },
   "file_extension": ".py",
   "mimetype": "text/x-python",
   "name": "python",
   "nbconvert_exporter": "python",
   "pygments_lexer": "ipython3",
   "version": "3.7.3"
  }
 },
 "nbformat": 4,
 "nbformat_minor": 2
}
